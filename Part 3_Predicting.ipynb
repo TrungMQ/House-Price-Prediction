{
  "cells": [
    {
      "cell_type": "markdown",
      "id": "a6a106c2-f185-492f-87bb-79286c2eacc4",
      "metadata": {
        "id": "a6a106c2-f185-492f-87bb-79286c2eacc4"
      },
      "source": [
        "### __Group Project - Predicting Airbnb Listing Prices in Melbourne, Australia__\n",
        "---"
      ]
    },
    {
      "cell_type": "markdown",
      "id": "3c9f6968-d9c2-422f-9935-eba856b3c028",
      "metadata": {
        "id": "3c9f6968-d9c2-422f-9935-eba856b3c028"
      },
      "source": [
        "## Fit and tune predictive models, submit predictions & win competition"
      ]
    },
    {
      "cell_type": "markdown",
      "id": "J9Trs07nR--k",
      "metadata": {
        "id": "J9Trs07nR--k"
      },
      "source": [
        "##### Load the data"
      ]
    },
    {
      "cell_type": "code",
      "execution_count": 14,
      "id": "bb53af94-d769-4a1d-a4a1-433f3dc7b46d",
      "metadata": {
        "id": "bb53af94-d769-4a1d-a4a1-433f3dc7b46d"
      },
      "outputs": [],
      "source": [
        "import pandas as pd\n",
        "df_train = pd.read_csv('train_cleaned.csv')\n",
        "df_test = pd.read_csv('test_cleaned.csv')"
      ]
    },
    {
      "cell_type": "markdown",
      "id": "95_OHoR2IsCA",
      "metadata": {
        "id": "95_OHoR2IsCA"
      },
      "source": [
        "To ensure predictive accuracy, the training predictive models are constructed with linear and tree-based base learners.\n",
        "\n",
        "**Purpose of stacking:**\n",
        "\n",
        "To leverage diverse learning patterns by combining models that capture both linear relationships (Ridge, Lasso, SVR) and non-linear interactions (LightGBM).\n",
        "\n",
        "**Linear Models: Feature Selection and Training**\n",
        "- Models involved: Ridge, Lasso, and SVR.\n",
        "- Feature selection method:\n",
        "Applied Recursive Feature Elimination (RFE) with Ridge as the estimator.\n",
        "- Why Ridge?\n",
        "  - Handles multicollinearity well.\n",
        "  - Provides stable, coefficient-based feature importance.\n",
        "- Optimal subset size:\n",
        "Selected the top 70 features based on a trade-off between MAE and R² during validation.\n",
        "- Application:\n",
        "These 70 features were then used to train and tune the linear models individually before stacking.\n",
        "\n",
        "**Tree-Based Model: SHAP-Driven Selection**\n",
        "- Model used: LightGBM\n",
        "- Feature selection method:\n",
        "Used SHAP values to rank feature importance specific to LightGBM.\n",
        "- Optimal subset size:\n",
        "Chose the top 60 SHAP-ranked features to reduce dimensionality without compromising performance.\n",
        "- Application:\n",
        "LightGBM was tuned using these 60 features to optimise non-linear modelling capability.\n",
        "\n",
        "**Evaluate metric**\n",
        "- A lower MAE indicates better performance, as predictions are closer to the true values.\n",
        "- It is expressed in the same unit as the target variable (e.g., price in dollars), making it directly interpretable."
      ]
    },
    {
      "cell_type": "markdown",
      "id": "Kfy_Rvbnnd1C",
      "metadata": {
        "id": "Kfy_Rvbnnd1C"
      },
      "source": [
        "#### **5.1 Linear Models - Hyperparameters Tuning**"
      ]
    },
    {
      "cell_type": "code",
      "execution_count": 15,
      "id": "VpF2UdWIiDrc",
      "metadata": {
        "id": "VpF2UdWIiDrc"
      },
      "outputs": [],
      "source": [
        "import numpy as np\n",
        "df_train['price_log1p'] = np.log1p(df_train['price'])"
      ]
    },
    {
      "cell_type": "code",
      "execution_count": 16,
      "id": "irHd6KYCDrrZ",
      "metadata": {
        "id": "irHd6KYCDrrZ"
      },
      "outputs": [],
      "source": [
        "# This is to ensure that the result file has the same ID column as the original test set\n",
        "df_test1 = df_test.copy()"
      ]
    },
    {
      "cell_type": "markdown",
      "id": "p9YzrexLqA2N",
      "metadata": {
        "id": "p9YzrexLqA2N"
      },
      "source": [
        "##### **5.1.1 Feature Selection by using Ridge Model**"
      ]
    },
    {
      "cell_type": "markdown",
      "id": "z1WXI8W6oiHO",
      "metadata": {
        "id": "z1WXI8W6oiHO"
      },
      "source": [
        "First, we evaluate how the number of selected features affects **Ridge regression performance.** We first scale all features and use the log-transformed price as the target. Then, for each value of k, we apply Recursive Feature Elimination (RFE) with Ridge as the estimator to select the top k features. Using 5-fold cross-validation, we compute the mean absolute error (MAE) to identify the optimal feature count for the models."
      ]
    },
    {
      "cell_type": "code",
      "execution_count": null,
      "id": "Ims5w8CFog4G",
      "metadata": {
        "id": "Ims5w8CFog4G",
        "outputId": "b9c53979-f014-4b5f-b6de-b866de0ea63d"
      },
      "outputs": [],
      "source": [
        "from sklearn.feature_selection import RFE\n",
        "from sklearn.linear_model import Ridge\n",
        "from sklearn.preprocessing import StandardScaler\n",
        "from sklearn.model_selection import cross_val_score\n",
        "import numpy as np\n",
        "X = df_train.drop(columns=['price', 'price_log1p', 'ID'])  # Exclude target and ID\n",
        "\n",
        "# Scale features\n",
        "scaler = StandardScaler()\n",
        "X_scaled = scaler.fit_transform(X)  # X = all features\n",
        "y = df_train['price_log1p']\n",
        "\n",
        "# Loop to test different feature counts\n",
        "for k in [20, 30, 40, 50, 70, 60, 80, 90, 100]:\n",
        "    rfe = RFE(estimator=Ridge(alpha=1.0), n_features_to_select=k)\n",
        "    rfe.fit(X_scaled, y)\n",
        "    X_selected = X_scaled[:, rfe.support_]\n",
        "\n",
        "    score = -np.mean(cross_val_score(Ridge(), X_selected, y, scoring='neg_mean_absolute_error', cv=5))\n",
        "    print(f\"MAE with {k} features: {score:.4f}\")"
      ]
    },
    {
      "cell_type": "markdown",
      "id": "kCftghyEpa8x",
      "metadata": {
        "id": "kCftghyEpa8x"
      },
      "source": [
        "- **70 features** were selected because this count achieved the lowest cross-validated **MAE (0.2834)**.\n",
        "- The 70-feature setup provided the best balance between model simplicity and accuracy.\n",
        "- This choice preserves strong predictive power while minimizing unnecessary complexity and the risk of overfitting."
      ]
    },
    {
      "cell_type": "code",
      "execution_count": 18,
      "id": "AldHYfwGqV-_",
      "metadata": {
        "id": "AldHYfwGqV-_"
      },
      "outputs": [],
      "source": [
        "# 1. Scale the features (required for Ridge)\n",
        "scaler = StandardScaler()\n",
        "X_scaled = scaler.fit_transform(X)\n",
        "\n",
        "# 2. Define Ridge and RFE\n",
        "ridge = Ridge(alpha=1.0, random_state=42)\n",
        "rfe = RFE(estimator=ridge, n_features_to_select=70)\n",
        "rfe.fit(X_scaled, y)\n",
        "\n",
        "# 3. Get selected features\n",
        "selected_feature_names = X.columns[rfe.support_]\n",
        "selected_70 = selected_feature_names.tolist()"
      ]
    },
    {
      "cell_type": "code",
      "execution_count": 19,
      "id": "QtvJ5EaZqacB",
      "metadata": {
        "id": "QtvJ5EaZqacB"
      },
      "outputs": [],
      "source": [
        "# 4. Define seperate dataframe using for linear models\n",
        "df_train_linear = df_train[selected_70]\n",
        "df_test_linear = df_test[selected_70]"
      ]
    },
    {
      "cell_type": "markdown",
      "id": "Tyz7et9qsbCh",
      "metadata": {
        "id": "Tyz7et9qsbCh"
      },
      "source": [
        "- As 70 features are selected, the optimal subset is extracted using Recursive Feature Elimination (RFE).\n",
        "- These selected predictors are used to construct new training and test DataFrames.\n",
        "- The refined datasets serve as input for ***hyperparameter tuning*** of Ridge, Lasso, and SVR models.\n",
        "- Ensures all three linear models are trained and evaluated using only **the most relevant** features.\n",
        "- Improves efficiency and reduces the risk of overfitting by focusing on essential predictors."
      ]
    },
    {
      "cell_type": "markdown",
      "id": "5hQ78htCtNNJ",
      "metadata": {
        "id": "5hQ78htCtNNJ"
      },
      "source": [
        "##### **5.1.2 Training and Testing Set for Linear Models**"
      ]
    },
    {
      "cell_type": "code",
      "execution_count": 20,
      "id": "N5xYhGMQstiZ",
      "metadata": {
        "id": "N5xYhGMQstiZ"
      },
      "outputs": [],
      "source": [
        "# 1.Creating the train dataset\n",
        "X_train1 = df_train_linear\n",
        "y_train1 = df_train['price_log1p'].clip(upper=df_train['price_log1p'].quantile(0.99))\n",
        "\n",
        "# 2.Creating the test dataset\n",
        "X_test1 = df_test_linear.copy()\n",
        "\n",
        "# 3. Creating the scaled training input\n",
        "sc = StandardScaler()\n",
        "sc.fit(X_train1)\n",
        "X_train_scaled = sc.transform(X_train1)\n",
        "X_test_scaled = sc.transform(X_test1)"
      ]
    },
    {
      "cell_type": "markdown",
      "id": "6OMSa2pKu2zW",
      "metadata": {
        "id": "6OMSa2pKu2zW"
      },
      "source": [
        "- Select **70 features** identified through RFE for use in linear models.\n",
        "- Clip the target variable at the **99th percentile** to limit the effect of extreme outliers.\n",
        "- Normalize input features using StandardScaler.\n",
        "- Normalization is essential for **stable performance** in Ridge, Lasso, and SVR models."
      ]
    },
    {
      "cell_type": "markdown",
      "id": "SI_eZMg6u6F9",
      "metadata": {
        "id": "SI_eZMg6u6F9"
      },
      "source": [
        "##### **5.1.3 Ridge Tuning**"
      ]
    },
    {
      "cell_type": "code",
      "execution_count": null,
      "id": "SwJOFgknvIHa",
      "metadata": {
        "id": "SwJOFgknvIHa",
        "outputId": "7b74ae82-b8ce-42b2-b42e-93338f7aa1bc"
      },
      "outputs": [],
      "source": [
        "# RIDGE:\n",
        "from sklearn.linear_model import Ridge\n",
        "from sklearn.model_selection import cross_val_score, GridSearchCV\n",
        "from sklearn.metrics import mean_absolute_error\n",
        "\n",
        "\n",
        "#Defining the parameter grid for tuning hyperparameter alpha\n",
        "param_grid_rdg = {'alpha':  [1e-15,1e-10,1e-5, 1e-4, 1e-3, 1e-2, 1e-1, 1,5, 10,15,20,25,30,35,40,45,50,55, 100, 110,120,130,140,150,200]}\n",
        "\n",
        "#Creating instance of the Ridge model\n",
        "rdg_model = Ridge()\n",
        "\n",
        "#Using GridSearch Cross Validation\n",
        "grid_search_rdg = GridSearchCV(estimator=rdg_model, param_grid=param_grid_rdg, cv=10, scoring='neg_mean_squared_error')\n",
        "grid_search_rdg.fit(X_train_scaled, y_train1)\n",
        "\n",
        "#Getting the best model and hyperparameters\n",
        "best_rdg_model = grid_search_rdg.best_estimator_\n",
        "best_params_rdg = grid_search_rdg.best_params_\n",
        "print(best_params_rdg)\n",
        "\n",
        "# Fit on Full Train Set & Predict on Test\n",
        "best_rdg_model.fit(X_train_scaled, y_train1)\n",
        "y_test_pred_log = best_rdg_model.predict(X_test_scaled)\n",
        "y_test_pred_orig = np.expm1(y_test_pred_log)\n",
        "\n",
        "# Save Predictions to Keggle Submission Format\n",
        "df_test_rdg = pd.DataFrame({'ID': df_test1['ID'], 'pre_price': y_test_pred_orig})\n",
        "df_test_rdg.to_csv('rdg_predicts.csv', index=False)\n",
        "\n",
        "from sklearn.model_selection import cross_val_score\n",
        "from sklearn.metrics import make_scorer, mean_squared_error, r2_score\n",
        "import numpy as np\n",
        "\n",
        "# === Custom RMSE Scorer on Original Price Scale ===\n",
        "def r2_original(y_true_log, y_pred_log):\n",
        "    return r2_score(np.expm1(y_true_log), np.expm1(y_pred_log))\n",
        "\n",
        "def mae_original(y_true_log, y_pred_log):\n",
        "    return mean_absolute_error(np.expm1(y_true_log), np.expm1(y_pred_log))\n",
        "\n",
        "# rmse_scorer = make_scorer(rmse_original, greater_is_better=False)\n",
        "r2_scorer = make_scorer(r2_original)\n",
        "mae_scorer = make_scorer(mae_original, greater_is_better=False)\n",
        "\n",
        "# Evaluate with 10-fold CV on original scale\n",
        "# rmse_scores = -cross_val_score(best_lgbm, X_train, y_train, cv=10, scoring=rmse_scorer)\n",
        "r2_scores = cross_val_score(best_rdg_model, X_train_scaled, y_train1, cv=10, scoring=r2_scorer)\n",
        "mae_scores = -cross_val_score(best_rdg_model, X_train_scaled, y_train1, cv=10, scoring=mae_scorer)\n",
        "\n",
        "# print(\"RMSE (original price scale) of light gbm:\", np.mean(rmse_scores))\n",
        "print(\"R2 (original price scale) of ridge:\", np.mean(r2_scores))\n",
        "print(\"MAE (original price scale) of ridge:\", np.mean(mae_scores))"
      ]
    },
    {
      "cell_type": "markdown",
      "id": "hej6RQu6vLYU",
      "metadata": {
        "id": "hej6RQu6vLYU"
      },
      "source": [
        "##### **5.1.4 Lasso Tuning**"
      ]
    },
    {
      "cell_type": "code",
      "execution_count": null,
      "id": "mt7lyuCuvT9K",
      "metadata": {
        "id": "mt7lyuCuvT9K",
        "outputId": "a3cc3cb3-fae1-437a-9028-203bfbae0429"
      },
      "outputs": [],
      "source": [
        "# LASSO:\n",
        "from sklearn.linear_model import Lasso\n",
        "\n",
        "#Defining the parameter grid for tuning hyperparameter alpha levels\n",
        "param_grid_lso = {'alpha':  [1e-15,1e-10,1e-5, 1e-4, 1e-3, 1e-2, 1e-1, 1,5, 10,15,20,25,30,35,40,45,50,55,100,110,120,130,140,150,200]}\n",
        "\n",
        "#Creating instance of the Lasso model\n",
        "lso_model = Lasso(max_iter=30)\n",
        "\n",
        "#Using GridSearch Cross Validation\n",
        "grid_search_lso = GridSearchCV(estimator=lso_model, param_grid=param_grid_lso, cv=10, scoring='neg_mean_squared_error')\n",
        "grid_search_lso.fit(X_train_scaled, y_train1)\n",
        "\n",
        "#Getting the best model and hyperparameters\n",
        "best_lso_model = grid_search_lso.best_estimator_\n",
        "best_params_lso = grid_search_lso.best_params_\n",
        "print(best_params_lso)\n",
        "\n",
        "#Fitting the best model on the training data\n",
        "best_lso_model.fit(X_train_scaled, y_train1)\n",
        "\n",
        "\n",
        "# Make predictions and TRANSFORM BACK to original scale\n",
        "y_pred_lso = best_lso_model.predict(X_test_scaled)\n",
        "y_pred_lso_orig = np.expm1(y_pred_lso)\n",
        "\n",
        "#Using fitted model to create price prediction\n",
        "ID = df_test1['ID']\n",
        "predicted_prices = y_pred_lso_orig\n",
        "df_test_las = pd.DataFrame({'ID': ID, 'price': predicted_prices})\n",
        "\n",
        "#Make into CSV for Kaggle submission\n",
        "df_test_las[['ID', 'price']].to_csv('lasso_predicts.csv', index=False)\n",
        "\n",
        "# Step 6: Evaluate on original scale\n",
        "def r2_original(y_true_log, y_pred_log):\n",
        "    return r2_score(np.expm1(y_true_log), np.expm1(y_pred_log))\n",
        "\n",
        "def mae_original(y_true_log, y_pred_log):\n",
        "    return mean_absolute_error(np.expm1(y_true_log), np.expm1(y_pred_log))\n",
        "\n",
        "\n",
        "# rmse_scorer = make_scorer(rmse_original, greater_is_better=False)\n",
        "r2_scorer = make_scorer(r2_original)\n",
        "mae_scorer = make_scorer(mae_original, greater_is_better=False)\n",
        "\n",
        "# Evaluate with 10-fold CV on original scale\n",
        "# rmse_scores = -cross_val_score(best_lgbm, X_train, y_train, cv=10, scoring=rmse_scorer)\n",
        "r2_scores = cross_val_score(best_lso_model, X_train_scaled, y_train1, cv=10, scoring=r2_scorer)\n",
        "mae_scores = -cross_val_score(best_lso_model, X_train_scaled, y_train1, cv=10, scoring=mae_scorer)\n",
        "\n",
        "# print(\"RMSE (original price scale) of light gbm:\", np.mean(rmse_scores))\n",
        "print(\"R2 (original price scale) of LASSO:\", np.mean(r2_scores))\n",
        "print(\"MAE (original price scale) of LASSO:\", np.mean(mae_scores))"
      ]
    },
    {
      "cell_type": "markdown",
      "id": "lFLyQW2uvfvn",
      "metadata": {
        "id": "lFLyQW2uvfvn"
      },
      "source": [
        "##### **5.1.5 SVR Tuning**"
      ]
    },
    {
      "cell_type": "code",
      "execution_count": null,
      "id": "7S437DTRvoP9",
      "metadata": {
        "id": "7S437DTRvoP9",
        "outputId": "7006166e-13a9-4a06-e74d-aa2e68efeb27"
      },
      "outputs": [],
      "source": [
        "#SVR:\n",
        "from sklearn.svm import SVR\n",
        "from sklearn.model_selection import RandomizedSearchCV, cross_val_score\n",
        "from sklearn.metrics import mean_squared_error\n",
        "from scipy.stats import uniform, loguniform\n",
        "\n",
        "# 1. Your data: replace these with your real inputs\n",
        "# X_train_scaled, X_test_scaled, y_train, df_test['ID']\n",
        "\n",
        "# 2. Parameter distribution\n",
        "param_dist_svr = {\n",
        "    'C': loguniform(1e-1, 1e3),              # Try values from 0.1 to 1000 (log-scale)\n",
        "    'epsilon': uniform(0.01, 1.0),           # Explore 0.01 to 1.01 for margin width\n",
        "    'gamma': loguniform(1e-4, 1e0),          # Try gamma between 0.0001 and 1.0\n",
        "    'kernel': ['rbf']                        # RBF is best for SVR in most cases\n",
        "}\n",
        "\n",
        "# 3. Initialize model\n",
        "svr_model = SVR()\n",
        "\n",
        "# 4. RandomizedSearchCV\n",
        "random_search_svr = RandomizedSearchCV(\n",
        "    estimator=svr_model,\n",
        "    param_distributions=param_dist_svr,\n",
        "    n_iter=40,\n",
        "    cv=5,\n",
        "    scoring='neg_mean_squared_error',\n",
        "    random_state=42,\n",
        "    verbose=1,\n",
        "    n_jobs=-1\n",
        ")\n",
        "\n",
        "# 5. Fit the model\n",
        "random_search_svr.fit(X_train_scaled, y_train1)\n",
        "\n",
        "# 6. Best estimator\n",
        "best_svr_model = random_search_svr.best_estimator_\n",
        "print(\"Best SVR Parameters:\", random_search_svr.best_params_)\n",
        "\n",
        "# 7. Predict\n",
        "y_pred_svr = best_svr_model.predict(X_test_scaled)\n",
        "y_pred_svr_orig = np.expm1(y_pred_svr)\n",
        "\n",
        "# 8. Save CSV\n",
        "df_svr_preds = pd.DataFrame({\n",
        "    'ID': df_test['ID'],\n",
        "    'price': y_pred_svr_orig\n",
        "})\n",
        "df_svr_preds.to_csv('svr_optimized_predictions.csv', index=False)\n",
        "\n",
        "# Step 6: Evaluate on original scale\n",
        "def r2_original(y_true_log, y_pred_log):\n",
        "    return r2_score(np.expm1(y_true_log), np.expm1(y_pred_log))\n",
        "\n",
        "def mae_original(y_true_log, y_pred_log):\n",
        "    return mean_absolute_error(np.expm1(y_true_log), np.expm1(y_pred_log))\n",
        "\n",
        "# rmse_scorer = make_scorer(rmse_original, greater_is_better=False)\n",
        "r2_scorer = make_scorer(r2_original)\n",
        "mae_scorer = make_scorer(mae_original, greater_is_better=False)\n",
        "\n",
        "# Evaluate with 10-fold CV on original scale\n",
        "# rmse_scores = -cross_val_score(best_lgbm, X_train, y_train, cv=10, scoring=rmse_scorer)\n",
        "r2_scores = cross_val_score(best_svr_model, X_train_scaled, y_train1, cv=10, scoring=r2_scorer)\n",
        "mae_scores = -cross_val_score(best_svr_model, X_train_scaled, y_train1, cv=10, scoring=mae_scorer)\n",
        "\n",
        "# print(\"RMSE (original price scale) of light gbm:\", np.mean(rmse_scores))\n",
        "print(\"R2 (original price scale) of SVR:\", np.mean(r2_scores))\n",
        "print(\"MAE (original price scale) of SVR:\", np.mean(mae_scores))"
      ]
    },
    {
      "cell_type": "markdown",
      "id": "yukbmN0RvuBR",
      "metadata": {
        "id": "yukbmN0RvuBR"
      },
      "source": [
        "#### **5.2 Tree-based Model (LightGBM) - Hyperparameters Tuning**"
      ]
    },
    {
      "cell_type": "markdown",
      "id": "nmqRmN_QwP2c",
      "metadata": {
        "id": "nmqRmN_QwP2c"
      },
      "source": [
        "##### **5.2.1 Training and Testing Set for LightGBM**"
      ]
    },
    {
      "cell_type": "code",
      "execution_count": 24,
      "id": "vMDxEBcewVk9",
      "metadata": {
        "id": "vMDxEBcewVk9"
      },
      "outputs": [],
      "source": [
        "# 1. Creating the train and test dataset\n",
        "X_train = df_train.drop(['price_log1p', 'price', 'ID'], axis=1)\n",
        "y_train = df_train['price_log1p'].clip(upper=df_train['price_log1p'].quantile(0.99))\n",
        "\n",
        "X_test = df_test.drop(['ID'], axis=1)"
      ]
    },
    {
      "cell_type": "markdown",
      "id": "uvjBtUpHwZ94",
      "metadata": {
        "id": "uvjBtUpHwZ94"
      },
      "source": [
        "In this step, the data for LightGBM is prepared by clipping the target variable at the 99th percentile to reduce the impact of outliers and normalising the input features."
      ]
    },
    {
      "cell_type": "markdown",
      "id": "xydi5HMxw3rF",
      "metadata": {
        "id": "xydi5HMxw3rF"
      },
      "source": [
        "##### **5.2.2 LightGBM Tuning**"
      ]
    },
    {
      "cell_type": "code",
      "execution_count": null,
      "id": "_iC4z9acw0kB",
      "metadata": {
        "id": "_iC4z9acw0kB",
        "outputId": "44dcf504-c571-4989-ee0e-eb40659cdc1b"
      },
      "outputs": [],
      "source": [
        "import lightgbm as lgb\n",
        "import optuna\n",
        "import numpy as np\n",
        "from sklearn.metrics import make_scorer, mean_squared_error, r2_score, mean_absolute_error\n",
        "from sklearn.model_selection import cross_val_score, KFold\n",
        "\n",
        "# Step 1: Transform your target variable (CRITICAL)\n",
        "# Log-transform target\n",
        "\n",
        "def objective(trial):\n",
        "    params = {\n",
        "        'n_estimators': trial.suggest_int('n_estimators', 500, 1500),\n",
        "        'max_depth': trial.suggest_int('max_depth', 10, 20),\n",
        "        'learning_rate': trial.suggest_float('learning_rate', 0.01, 0.1),\n",
        "        'num_leaves': trial.suggest_int('num_leaves', 50, 150),\n",
        "        'min_child_samples': trial.suggest_int('min_child_samples', 1, 20),\n",
        "        'subsample': trial.suggest_float('subsample', 0.6, 1.0),\n",
        "        'colsample_bytree': trial.suggest_float('colsample_bytree', 0.7, 1.0),\n",
        "        'reg_alpha': trial.suggest_float('reg_alpha', 0.0, 1.0),\n",
        "        'reg_lambda': trial.suggest_float('reg_lambda', 0.0, 10.0),\n",
        "        'objective': 'quantile',\n",
        "        'alpha': 0.5,\n",
        "        'random_state': 42,\n",
        "        'verbose': -1\n",
        "    }\n",
        "\n",
        "    model = lgb.LGBMRegressor(**params)\n",
        "    score = cross_val_score(\n",
        "        model, X_train, y_train,\n",
        "        scoring='neg_mean_absolute_error',\n",
        "        cv=KFold(n_splits=3, shuffle=True, random_state=42),\n",
        "        n_jobs=-1\n",
        "    )\n",
        "    return -score.mean()\n",
        "\n",
        "# Step 3: Hyperparameter tuning\n",
        "study = optuna.create_study(direction='minimize')\n",
        "study.optimize(objective, n_trials=50, n_jobs=4) # change to 50\n",
        "\n",
        "# Step 4: Train best model on log-transformed target\n",
        "best_lgb = lgb.LGBMRegressor(**study.best_params)\n",
        "best_lgb.fit(X_train, y_train)\n",
        "\n",
        "print(\"Best LightGBM parameters:\", study.best_params)\n",
        "print(\"Best MAE (log scale):\", study.best_value)\n",
        "\n",
        "# Step 5: Make predictions and TRANSFORM BACK to original scale\n",
        "y_pred_log_lightgbm = best_lgb.predict(X_test)\n",
        "y_pred_lgbm_orig = np.expm1(y_pred_log_lightgbm)\n",
        "\n",
        "# Step 6: Evaluate on original scale\n",
        "def r2_original(y_true_log, y_pred_log):\n",
        "    return r2_score(np.expm1(y_true_log), np.expm1(y_pred_log))\n",
        "\n",
        "def mae_original(y_true_log, y_pred_log):\n",
        "    return mean_absolute_error(np.expm1(y_true_log), np.expm1(y_pred_log))\n",
        "\n",
        "\n",
        "# rmse_scorer = make_scorer(rmse_original, greater_is_better=False)\n",
        "r2_scorer = make_scorer(r2_original)\n",
        "mae_scorer = make_scorer(mae_original, greater_is_better=False)\n",
        "\n",
        "# Evaluate with 10-fold CV on original scale\n",
        "# rmse_scores = -cross_val_score(best_lgbm, X_train, y_train, cv=10, scoring=rmse_scorer)\n",
        "r2_scores = cross_val_score(best_lgb, X_train, y_train, cv=10, scoring=r2_scorer)\n",
        "mae_scores = -cross_val_score(best_lgb, X_train, y_train, cv=10, scoring=mae_scorer)\n",
        "\n",
        "# print(\"RMSE (original price scale) of light gbm:\", np.mean(rmse_scores))\n",
        "print(\"R2 (original price scale) of light gbm:\", np.mean(r2_scores))\n",
        "print(\"MAE (original price scale) of light gbm:\", np.mean(mae_scores))\n",
        "\n",
        "# Step 7: Final predictions for submission\n",
        "y_pred_final_log = best_lgb.predict(X_test)\n",
        "y_pred_final = np.expm1(y_pred_final_log)\n",
        "\n",
        "# Export to CSV\n",
        "test_output = pd.DataFrame({\n",
        "    'ID': df_test1['ID'],\n",
        "    'predicted_price':y_pred_final\n",
        "})\n",
        "test_output.to_csv('lightgbm_all_features.csv', index=False)\n",
        "\n",
        "print(f\"\\nFinal predictions exported:\")\n",
        "print(f\"Price range: ${y_pred_final.min():.2f} - ${y_pred_final.max():.2f}\")\n",
        "print(f\"Mean predicted price: ${y_pred_final.mean():.2f}\")\n",
        "print(\"All predictions are in NORMAL price scale (converted back from log)\")"
      ]
    },
    {
      "cell_type": "markdown",
      "id": "WAz-h_tnyjxB",
      "metadata": {
        "id": "WAz-h_tnyjxB"
      },
      "source": [
        "##### **5.2.3 SHAP Values and Feature Chosen from Feature Importance**"
      ]
    },
    {
      "cell_type": "code",
      "execution_count": null,
      "id": "Si2M-3-bNWl5",
      "metadata": {
        "id": "Si2M-3-bNWl5"
      },
      "outputs": [],
      "source": [
        "!pip install shap"
      ]
    },
    {
      "cell_type": "code",
      "execution_count": null,
      "id": "7e707136",
      "metadata": {
        "id": "7e707136"
      },
      "outputs": [],
      "source": [
        "import shap\n",
        "explainer = shap.Explainer(best_lgb, X_train)\n",
        "shap_values = explainer(X_train)"
      ]
    },
    {
      "cell_type": "code",
      "execution_count": 28,
      "id": "26bguYTzzBMB",
      "metadata": {
        "id": "26bguYTzzBMB"
      },
      "outputs": [],
      "source": [
        "# 2. Choosing the top 60 features based on the mean absolute SHAP values per features\n",
        "shap_importance = np.abs(shap_values.values).mean(axis=0)\n",
        "shap_importance_df = pd.DataFrame({\n",
        "    'feature': X_train.columns,\n",
        "    'importance': shap_importance\n",
        "}).sort_values(by='importance', ascending=False)\n",
        "\n",
        "# 3. Selecting top 60 features\n",
        "top_60_features = shap_importance_df['feature'].head(60).tolist()"
      ]
    },
    {
      "cell_type": "markdown",
      "id": "nzm-vsOB0O9N",
      "metadata": {
        "id": "nzm-vsOB0O9N"
      },
      "source": [
        "##### **5.2.4 LightGBM Tuning with top 60 features**"
      ]
    },
    {
      "cell_type": "code",
      "execution_count": null,
      "id": "5DuFsB1o0ZgX",
      "metadata": {
        "id": "5DuFsB1o0ZgX"
      },
      "outputs": [],
      "source": [
        "# 1. Creating the train and test dataset\n",
        "df_train2 = df_train[top_60_features + ['price_log1p']]\n",
        "df_test2 = df_test[top_60_features]\n",
        "\n",
        "# 2. Extracting the input and target variables\n",
        "X_train = df_train2.drop(['price_log1p'], axis=1)\n",
        "y_train = df_train2['price_log1p'].clip(upper=df_train['price_log1p'].quantile(0.99))\n",
        "\n",
        "X_test = df_test2.copy()"
      ]
    },
    {
      "cell_type": "code",
      "execution_count": null,
      "id": "Bq5O8GKd0eob",
      "metadata": {
        "id": "Bq5O8GKd0eob"
      },
      "outputs": [],
      "source": [
        "# 3. Training the LightGBM model with the top 60 features\n",
        "import lightgbm as lgb\n",
        "import optuna\n",
        "import numpy as np\n",
        "from sklearn.metrics import make_scorer, mean_squared_error, r2_score, mean_absolute_error\n",
        "from sklearn.model_selection import cross_val_score, KFold\n",
        "\n",
        "# Step 1: Transform your target variable (CRITICAL)\n",
        "# Log-transform target\n",
        "\n",
        "def objective(trial):\n",
        "    params = {\n",
        "        'n_estimators': trial.suggest_int('n_estimators', 500, 1500),\n",
        "        'max_depth': trial.suggest_int('max_depth', 10, 20),\n",
        "        'learning_rate': trial.suggest_float('learning_rate', 0.01, 0.1),\n",
        "        'num_leaves': trial.suggest_int('num_leaves', 50, 150),\n",
        "        'min_child_samples': trial.suggest_int('min_child_samples', 1, 20),\n",
        "        'subsample': trial.suggest_float('subsample', 0.6, 1.0),\n",
        "        'colsample_bytree': trial.suggest_float('colsample_bytree', 0.7, 1.0),\n",
        "        'reg_alpha': trial.suggest_float('reg_alpha', 0.0, 1.0),\n",
        "        'reg_lambda': trial.suggest_float('reg_lambda', 0.0, 10.0),\n",
        "        'objective': 'quantile',\n",
        "        'alpha': 0.5,\n",
        "        'random_state': 42,\n",
        "        'verbose': -1\n",
        "    }\n",
        "\n",
        "    model = lgb.LGBMRegressor(**params)\n",
        "    score = cross_val_score(\n",
        "        model, X_train, y_train,\n",
        "        scoring='neg_mean_absolute_error',\n",
        "        cv=KFold(n_splits=3, shuffle=True, random_state=42),\n",
        "        n_jobs=-1\n",
        "    )\n",
        "    return -score.mean()\n",
        "\n",
        "# Step 3: Hyperparameter tuning\n",
        "study = optuna.create_study(direction='minimize')\n",
        "study.optimize(objective, n_trials=50, n_jobs=4) # change to 50\n",
        "\n",
        "# Step 4: Train best model on log-transformed target\n",
        "best_lgb = lgb.LGBMRegressor(**study.best_params)\n",
        "best_lgb.fit(X_train, y_train)\n",
        "\n",
        "print(\"Best LightGBM parameters:\", study.best_params)\n",
        "print(\"Best MAE (log scale):\", study.best_value)\n",
        "\n",
        "# Step 5: Make predictions and TRANSFORM BACK to original scale\n",
        "y_pred_log_lightgbm = best_lgb.predict(X_test)\n",
        "y_pred_lgbm_orig = np.expm1(y_pred_log_lightgbm)\n",
        "\n",
        "# Step 6: Evaluate on original scale\n",
        "def r2_original(y_true_log, y_pred_log):\n",
        "    return r2_score(np.expm1(y_true_log), np.expm1(y_pred_log))\n",
        "\n",
        "def mae_original(y_true_log, y_pred_log):\n",
        "    return mean_absolute_error(np.expm1(y_true_log), np.expm1(y_pred_log))\n",
        "\n",
        "\n",
        "# rmse_scorer = make_scorer(rmse_original, greater_is_better=False)\n",
        "r2_scorer = make_scorer(r2_original)\n",
        "mae_scorer = make_scorer(mae_original, greater_is_better=False)\n",
        "\n",
        "# Evaluate with 10-fold CV on original scale\n",
        "# rmse_scores = -cross_val_score(best_lgbm, X_train, y_train, cv=10, scoring=rmse_scorer)\n",
        "r2_scores = cross_val_score(best_lgb, X_train, y_train, cv=10, scoring=r2_scorer)\n",
        "mae_scores = -cross_val_score(best_lgb, X_train, y_train, cv=10, scoring=mae_scorer)\n",
        "\n",
        "# print(\"RMSE (original price scale) of light gbm:\", np.mean(rmse_scores))\n",
        "print(\"R2 (original price scale) of light gbm_top60:\", np.mean(r2_scores))\n",
        "print(\"MAE (original price scale) of light gbm_top60:\", np.mean(mae_scores))\n",
        "\n",
        "# Step 7: Final predictions for submission\n",
        "y_pred_final_log = best_lgb.predict(X_test)\n",
        "y_pred_final = np.expm1(y_pred_final_log)\n",
        "\n",
        "# Export to CSV\n",
        "test_output = pd.DataFrame({\n",
        "    'ID': df_test1['ID'],\n",
        "    'predicted_price':y_pred_final\n",
        "})\n",
        "test_output.to_csv('lightgbm_top60_features.csv', index=False)\n",
        "\n",
        "print(f\"\\nFinal predictions exported:\")\n",
        "print(f\"Price range: ${y_pred_final.min():.2f} - ${y_pred_final.max():.2f}\")\n",
        "print(f\"Mean predicted price: ${y_pred_final.mean():.2f}\")\n",
        "print(\"All predictions are in NORMAL price scale (converted back from log)\")"
      ]
    },
    {
      "cell_type": "markdown",
      "id": "gh_P_f_oIy4E",
      "metadata": {
        "id": "gh_P_f_oIy4E"
      },
      "source": [
        "- **Parameters:**\n",
        "{'n_estimators': 1432, 'max_depth': 16, 'learning_rate': 0.06284122674542761, 'num_leaves': 68, 'min_child_samples': 6, 'subsample': 0.6561264774523239, 'colsample_bytree': 0.723696215058131, 'reg_alpha': 0.3464196295537766, 'reg_lambda': 2.3492174709713325}.\n",
        "- **R2 (original price scale) of light gbm_top60:** 0.6419713000086213\n",
        "- **MAE (original price scale) of light gbm_top60:** 54.25290335494162\n",
        "\n"
      ]
    },
    {
      "cell_type": "markdown",
      "id": "ah7-W-ZJ1TNC",
      "metadata": {
        "id": "ah7-W-ZJ1TNC"
      },
      "source": [
        "**Output**\n",
        "![image.png](data:image/png;base64,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)"
      ]
    },
    {
      "cell_type": "markdown",
      "id": "34k2oRry3Fys",
      "metadata": {
        "id": "34k2oRry3Fys"
      },
      "source": [
        "- The LightGBM model with all features achieved a Kaggle **test score of 272.457**.\n",
        "- Training on the top **60 SHAP-selected** features resulted in a **lower score (269.859)**, indicating improved generalization on unseen data.\n",
        "- The improvement suggests that removing less important or noisy features helped the model avoid overfitting.\n",
        "- SHAP-guided feature selection allowed the model to focus on the **most informative** variables.\n",
        "- Despite using fewer inputs, the model maintained predictive power while enhancing robustness on external data."
      ]
    },
    {
      "cell_type": "markdown",
      "id": "h3w9FxVM1qFB",
      "metadata": {
        "id": "h3w9FxVM1qFB"
      },
      "source": [
        "#### **5.3 Stacking Models**"
      ]
    },
    {
      "cell_type": "code",
      "execution_count": null,
      "id": "OMLSm7D61vGm",
      "metadata": {
        "id": "OMLSm7D61vGm"
      },
      "outputs": [],
      "source": [
        "from sklearn.model_selection import KFold\n",
        "from sklearn.linear_model import LinearRegression\n",
        "from sklearn.metrics import mean_absolute_error, r2_score\n",
        "\n",
        "# --- STEP 1: Setup placeholders for predictions ---\n",
        "\n",
        "n_train = X_train_scaled.shape[0]\n",
        "n_test = X_test_scaled.shape[0]\n",
        "\n",
        "# Placeholders for OOF training predictions\n",
        "oof_preds_ridge = np.zeros(n_train)\n",
        "oof_preds_lasso = np.zeros(n_train)\n",
        "oof_preds_svr = np.zeros(n_train)\n",
        "oof_preds_lgbm = np.zeros(n_train)\n",
        "\n",
        "# Placeholders for final test predictions\n",
        "test_preds_ridge = np.zeros(n_test)\n",
        "test_preds_lasso = np.zeros(n_test)\n",
        "test_preds_svr = np.zeros(n_test)\n",
        "test_preds_lgbm = np.zeros(n_test)\n",
        "\n",
        "# --- STEP 2: K-Fold CV for Base Models ---\n",
        "kf = KFold(n_splits=5, shuffle=True, random_state=42)\n",
        "\n",
        "for train_idx, val_idx in kf.split(X_train_scaled):\n",
        "    # === Prepare data ===\n",
        "    X_tr_scaled, X_val_scaled = X_train_scaled[train_idx], X_train_scaled[val_idx]\n",
        "    X_tr_raw, X_val_raw = X_train.iloc[train_idx], X_train.iloc[val_idx]\n",
        "    y_tr = y_train.iloc[train_idx]\n",
        "\n",
        "    # === Train models ===\n",
        "    best_rdg_model.fit(X_tr_scaled, y_tr)\n",
        "    best_lso_model.fit(X_tr_scaled, y_tr)\n",
        "    best_svr_model.fit(X_tr_scaled, y_tr)\n",
        "    best_lgb.fit(X_tr_raw, y_tr)\n",
        "\n",
        "    # === Predict on validation fold ===\n",
        "    oof_preds_ridge[val_idx] = best_rdg_model.predict(X_val_scaled)\n",
        "    oof_preds_lasso[val_idx] = best_lso_model.predict(X_val_scaled)\n",
        "    oof_preds_svr[val_idx]   = best_svr_model.predict(X_val_scaled)\n",
        "    oof_preds_lgbm[val_idx]  = best_lgb.predict(X_val_raw)\n",
        "\n",
        "# --- STEP 3: Refit all base models on full training data ---\n",
        "best_rdg_model.fit(X_train_scaled, y_train)\n",
        "best_lso_model.fit(X_train_scaled, y_train)\n",
        "best_svr_model.fit(X_train_scaled, y_train)\n",
        "best_lgb.fit(X_train, y_train)\n",
        "\n",
        "# --- STEP 4: Predict on test set ---\n",
        "test_preds_ridge = best_rdg_model.predict(X_test_scaled)\n",
        "test_preds_lasso = best_lso_model.predict(X_test_scaled)\n",
        "test_preds_svr   = best_svr_model.predict(X_test_scaled)\n",
        "test_preds_lgbm  = best_lgb.predict(X_test)\n",
        "\n",
        "# --- STEP 5: Stack predictions to form input for meta-model ---\n",
        "stacked_train = np.column_stack([\n",
        "    oof_preds_ridge,\n",
        "    oof_preds_lasso,\n",
        "    oof_preds_svr,\n",
        "    oof_preds_lgbm\n",
        "])\n",
        "\n",
        "stacked_test = np.column_stack([\n",
        "    test_preds_ridge,\n",
        "    test_preds_lasso,\n",
        "    test_preds_svr,\n",
        "    test_preds_lgbm\n",
        "])\n",
        "\n",
        "# --- STEP 6: Train meta-model ---\n",
        "meta_model = LinearRegression()\n",
        "meta_model.fit(stacked_train, y_train)\n",
        "\n",
        "# --- STEP 7: Predict final result on test set ---\n",
        "final_log_preds = meta_model.predict(stacked_test)\n",
        "final_price_preds = np.expm1(final_log_preds)  # Inverse log1p\n",
        "\n",
        "# --- STEP 8: Evaluate on training set ---\n",
        "stacked_oof_preds = meta_model.predict(stacked_train)\n",
        "\n",
        "# On log scale\n",
        "mae_log = mean_absolute_error(y_train, stacked_oof_preds)\n",
        "r2_log = r2_score(y_train, stacked_oof_preds)\n",
        "\n",
        "# On price scale\n",
        "true_price = np.expm1(y_train)\n",
        "pred_price = np.expm1(stacked_oof_preds)\n",
        "\n",
        "mae_price = mean_absolute_error(true_price, pred_price)\n",
        "r2_price = r2_score(true_price, pred_price)\n",
        "\n",
        "print(\"Stacking Performance on Training Set:\")\n",
        "print(f\"MAE (log scale): {mae_log:.4f}\")\n",
        "print(f\"R²   (log scale): {r2_log:.4f}\")\n",
        "print(f\"MAE (price): {mae_price:.2f}\")\n",
        "print(f\"R²   (price): {r2_price:.4f}\")\n",
        "\n",
        "# --- STEP 9: Export predictions ---\n",
        "test_output = pd.DataFrame({\n",
        "    'ID': df_test1['ID'],\n",
        "    'predicted_price': final_price_preds\n",
        "})\n",
        "test_output.to_csv('(16)stacking_ridge_lasso_svr_lgbm.csv', index=False)"
      ]
    },
    {
      "cell_type": "markdown",
      "id": "fHgq2gXc-99C",
      "metadata": {
        "id": "fHgq2gXc-99C"
      },
      "source": [
        "**Base Models & Cross-Validation**\n",
        "- Tuned Ridge, Lasso, SVR, and LightGBM using Optuna for optimal performance.\n",
        "- Applied 5-fold cross-validation to generate out-of-fold (OOF) predictions and averaged test predictions across folds.\n",
        "- Used standardized features for linear models, while LightGBM used raw features.\n",
        "\n",
        "**Stacking Process**\n",
        "- OOF and test predictions from base models were stacked horizontally to form meta-level datasets.\n",
        "- A Linear Regression meta-learner was trained on the stacked OOF predictions.\n",
        "- Final forecasts on the test set were generated using the trained meta-learner.\n",
        "\n",
        "**Output & Evalutaion**\n",
        "- Since the target was log-transformed, predictions were **exponentiated (np.expm1)** back to original price scale.\n",
        "- Model performance evaluated using MAE and R² on both log scale and actual price scale.\n",
        "- Final predictions exported to a CSV file for Kaggle submission."
      ]
    },
    {
      "cell_type": "markdown",
      "id": "XUGZO56YtlGs",
      "metadata": {
        "id": "XUGZO56YtlGs"
      },
      "source": [
        "#### **5.4 Kaggle Submission Result**"
      ]
    },
    {
      "cell_type": "markdown",
      "id": "3kbU2YszQoZb",
      "metadata": {
        "id": "3kbU2YszQoZb"
      },
      "source": [
        "**Output**\n",
        "![image.png](data:image/png;base64,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)"
      ]
    },
    {
      "cell_type": "markdown",
      "id": "REIdXuK3trFJ",
      "metadata": {
        "id": "REIdXuK3trFJ"
      },
      "source": [
        "![image.png](data:image/png;base64,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)"
      ]
    },
    {
      "cell_type": "markdown",
      "id": "evGX2cT-tuTr",
      "metadata": {
        "id": "evGX2cT-tuTr"
      },
      "source": [
        "![image.png](data:image/png;base64,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)"
      ]
    },
    {
      "cell_type": "markdown",
      "id": "Pmv1NcYy_ttG",
      "metadata": {
        "id": "Pmv1NcYy_ttG"
      },
      "source": [
        "**Performance Results**\n",
        "- The stacking model achieved a Kaggle score of 268.532, ranking 4th in the competition.\n",
        "- Outperformed the LightGBM with all features (272.457) and the LightGBM with 60 SHAP-selected features (269.859).\n",
        "\n",
        "**Comparison with LightGBM (60 features)**\n",
        "- The SHAP-guided LightGBM reduced overfitting by focusing on the most relevant variables.\n",
        "- Showed improved generalization compared to the full-feature version.\n",
        "\n",
        "**Strength of Stacking**\n",
        "- Combined ***Ridge, Lasso, SVR, and LightGBM*** to leverage complementary model strengths.\n",
        "- Captured a broader range of data patterns, improving predictive power and robustness.\n",
        "- Delivered a **lower test error** and stronger generalization, demonstrating the value of stacking over even optimized single models."
      ]
    },
    {
      "cell_type": "markdown",
      "id": "45801eb1",
      "metadata": {},
      "source": [
        "### **Final Result** - [View on Kaggle](https://www.kaggle.com/competitions/asba-predictive-analytics-competition/leaderboard)"
      ]
    },
    {
      "cell_type": "markdown",
      "id": "2b772aeb",
      "metadata": {},
      "source": [
        "- **Final Leaderboard Rank:** **3rd out of 106 teams** 🏆  \n",
        "\n",
        "<div align=\"center\">\n",
        "  <img src=\"Final_Results.png\" alt=\"Final Result\" width=\"600\"/>\n",
        "</div>\n",
        "\n",
        "- **Final Score (Private Leaderboard):** **110.299**  \n",
        "  - This score represents the **gap between predicted and actual prices**.  \n",
        "  - A lower score indicates better accuracy, and the trained stacked model performed competitively against other top approaches.\n",
        "- **Result Recorded:** **6th June 2025, 1:57 PM (AEST)**  "
      ]
    },
    {
      "cell_type": "markdown",
      "id": "0a9fc7ca",
      "metadata": {},
      "source": []
    }
  ],
  "metadata": {
    "colab": {
      "provenance": []
    },
    "kernelspec": {
      "display_name": "base",
      "language": "python",
      "name": "python3"
    },
    "language_info": {
      "codemirror_mode": {
        "name": "ipython",
        "version": 3
      },
      "file_extension": ".py",
      "mimetype": "text/x-python",
      "name": "python",
      "nbconvert_exporter": "python",
      "pygments_lexer": "ipython3",
      "version": "3.11.5"
    }
  },
  "nbformat": 4,
  "nbformat_minor": 5
}
